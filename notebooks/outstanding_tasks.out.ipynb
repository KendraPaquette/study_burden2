{
 "cells": [
  {
   "cell_type": "markdown",
   "metadata": {},
   "source": [
    "# Outstanding tasks\n",
    "\n",
    "1.  recode valence and direction on theme\n",
    "\n",
    "2.  rerun analyses\n",
    "\n",
    "    -   use number of lapses as moderator? (does engaging in illicit behavior change perceptions about providing data on use?)\n",
    "\n",
    "    -   Cross compare affect and theme\n",
    "\n",
    "3.  get overall EMA compliance and disposition\n",
    "\n",
    "    -   look at demographic differences in these two behavioral measures\n",
    "    -   Use number of lapses as moderator? (is it harder to comply behaviorally when lapsing?)\n",
    "\n",
    "4.  Categorize location data for comparisons - use population density/housing units in zip code data"
   ],
   "id": "d79a6a3a-1698-46d2-b5a0-bfb5835fc0b2"
  }
 ],
 "nbformat": 4,
 "nbformat_minor": 5,
 "metadata": {}
}
