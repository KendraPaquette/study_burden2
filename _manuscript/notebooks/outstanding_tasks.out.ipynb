{
 "cells": [
  {
   "cell_type": "markdown",
   "metadata": {},
   "source": [
    "# Outstanding tasks\n",
    "\n",
    "1.  Update cleaning/processing scripts\n",
    "\n",
    "    -   DONE 9/3/24\n",
    "\n",
    "2.  recode neutral/mixed comments\n",
    "\n",
    "    -   DONE 9/3/24\n",
    "\n",
    "3.  rerun Qual analyses\n",
    "\n",
    "    -   use number of lapses as moderator? (does engaging in illicit behavior change perceptions about providing data on use?)\n",
    "\n",
    "    -   Cross compare affect and theme\n",
    "\n",
    "4.  get overall EMA compliance and disposition\n",
    "\n",
    "    -   look at demographic differences in these two behavioral measures\n",
    "    -   Use number of lapses as moderator? (is it harder to comply behaviorally when lapsing?)\n",
    "\n",
    "5.  quant analyses on dislike and interference\n",
    "\n",
    "    -   overall done!\n",
    "    -   by demographic?\n",
    "\n",
    "6.  Categorize location data for comparisons - use population density/housing units in zip code data"
   ],
   "id": "e27e4469-0541-46d3-b24f-5881e32d4e77"
  }
 ],
 "nbformat": 4,
 "nbformat_minor": 5,
 "metadata": {}
}
