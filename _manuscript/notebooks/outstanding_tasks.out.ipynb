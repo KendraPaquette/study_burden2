{
 "cells": [
  {
   "cell_type": "markdown",
   "metadata": {},
   "source": [
    "# Outstanding tasks\n",
    "\n",
    "1.  Update cleaning/processing scripts\n",
    "\n",
    "    -   DONE 9/3/24\n",
    "\n",
    "2.  recode neutral/mixed comments\n",
    "\n",
    "    -   DONE 9/3/24\n",
    "\n",
    "3.  quant analyses on dislike and interference\n",
    "\n",
    "    -   overall DONE!\n",
    "    -   by demographic?\n",
    "\n",
    "4.  get overall EMA compliance and disposition\n",
    "\n",
    "    -   look at demographic differences in these two behavioral measures\n",
    "    -   Use number of lapses as moderator? (is it harder to comply behaviorally when lapsing?)\n",
    "\n",
    "5.  rerun Qual analyses\n",
    "\n",
    "    -   use number of lapses as moderator? (does engaging in illicit behavior change perceptions about providing data on use?)\n",
    "    -   Cross compare affect and theme\n",
    "\n",
    "6.  Categorize location data for comparisons - use population density/housing units in zip code data"
   ],
   "id": "0bdded2c-5b69-47a5-b582-e0a5e3536bda"
  }
 ],
 "nbformat": 4,
 "nbformat_minor": 5,
 "metadata": {}
}
