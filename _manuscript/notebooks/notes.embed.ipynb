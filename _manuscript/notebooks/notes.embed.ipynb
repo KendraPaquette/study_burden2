{
 "cells": [
  {
   "cell_type": "markdown",
   "metadata": {},
   "source": [
    "# Notes\n",
    "\n",
    "-   Burden data from 247 participants.\n",
    "-   All participants provided quant data\n",
    "-   222 provided qual data (205 provided comments that were coded)\n",
    "-   We coded a total of 713 comments from 205 participants. We filtered out comments that equate to NA (e.g., None, No, Na, No comment).\n",
    "-   participants completed survey on average after being on study for 4 months (range = 62-142 days)"
   ],
   "id": "d9713079-cfe6-483d-8f19-8b3cbfd2f559"
  }
 ],
 "nbformat": 4,
 "nbformat_minor": 5,
 "metadata": {}
}
