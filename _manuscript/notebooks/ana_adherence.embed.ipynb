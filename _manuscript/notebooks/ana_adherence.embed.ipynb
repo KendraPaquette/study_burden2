{
 "cells": [
  {
   "cell_type": "markdown",
   "metadata": {},
   "source": [
    "# EMA adherence\n",
    "\n",
    "Kendra Wyant  \n",
    "October 2, 2024\n",
    "\n",
    "Purpose: This file calculates overall weekly EMA adherence using EMA survey data (`survey_daily.csv`).\n",
    "\n",
    "## Set up"
   ],
   "id": "83a81fd2-6046-4543-bb14-93a4cebfc3db"
  },
  {
   "cell_type": "code",
   "execution_count": null,
   "metadata": {},
   "outputs": [
    {
     "output_type": "stream",
     "name": "stderr",
     "text": [
      "── Attaching core tidyverse packages ──────────────────────── tidyverse 2.0.0 ──\n",
      "✔ dplyr     1.1.4     ✔ readr     2.1.5\n",
      "✔ forcats   1.0.0     ✔ stringr   1.5.1\n",
      "✔ ggplot2   3.5.1     ✔ tibble    3.2.1\n",
      "✔ lubridate 1.9.3     ✔ tidyr     1.3.1\n",
      "✔ purrr     1.0.2     \n",
      "── Conflicts ────────────────────────────────────────── tidyverse_conflicts() ──\n",
      "✖ dplyr::filter() masks stats::filter()\n",
      "✖ dplyr::lag()    masks stats::lag()\n",
      "ℹ Use the conflicted package (<http://conflicted.r-lib.org/>) to force all conflicts to become errors"
     ]
    },
    {
     "output_type": "stream",
     "name": "stderr",
     "text": [
      "Warning: package 'DiagrammeR' was built under R version 4.4.1"
     ]
    },
    {
     "output_type": "stream",
     "name": "stderr",
     "text": [
      "ℹ SHA-1 hash of file is \"a58e57da996d1b70bb9a5b58241325d6fd78890f\""
     ]
    }
   ],
   "source": [
    "#| message: false\n",
    "#| warning: false\n",
    "#| code-fold: true\n",
    "\n",
    "options(conflicts.policy = \"depends.ok\")\n",
    "library(tidyverse) "
   ],
   "id": "d226d8f0-346c-4485-ab73-7b512a2efcd3"
  },
  {
   "cell_type": "markdown",
   "metadata": {},
   "source": [
    "### Data"
   ],
   "id": "5e5880f7-537e-47d7-a298-b6a055bacdcf"
  },
  {
   "cell_type": "code",
   "execution_count": null,
   "metadata": {},
   "outputs": [
    {
     "output_type": "stream",
     "name": "stderr",
     "text": [
      "Warning: One or more parsing issues, call `problems()` on your data frame for details,\n",
      "e.g.:\n",
      "  dat <- vroom(...)\n",
      "  problems(dat)"
     ]
    }
   ],
   "source": [
    "ema <- read_csv(here::here(path_shared, \"survey_daily.csv\"),\n",
    "                show_col_types = FALSE)\n",
    "\n",
    "monthly <- read_csv(here::here(path_shared, \"generic_monthly_wide.csv\"),\n",
    "                show_col_types = FALSE) "
   ],
   "id": "c1f9602d-bb43-4c4c-b0ec-42d8b04e38bb"
  },
  {
   "cell_type": "markdown",
   "metadata": {},
   "source": [
    "burden subids"
   ],
   "id": "58fe917f-fcf1-438d-bf71-45ae7f873486"
  },
  {
   "cell_type": "code",
   "execution_count": null,
   "metadata": {},
   "outputs": [],
   "source": [
    "burden_subids <- burden_quant |> \n",
    "  pull(subid) |>\n",
    "  unique()"
   ],
   "id": "372f5740-0ffc-4f2d-ace2-370aae31bf75"
  },
  {
   "cell_type": "markdown",
   "metadata": {},
   "source": [
    "### Disposition\n",
    "\n",
    "Study start and end dates for each subid"
   ],
   "id": "203a7513-cc2f-492c-aee3-32b5a04468b5"
  },
  {
   "cell_type": "code",
   "execution_count": null,
   "metadata": {},
   "outputs": [],
   "source": [
    "study_start <- ema |> \n",
    "  group_by(subid) |> \n",
    "  arrange(start_date) |> \n",
    "  slice(1) |> \n",
    "  ungroup() |> \n",
    "  mutate(study_start = as_date(start_date)) |> \n",
    "  select(subid, study_start)\n",
    "\n",
    "study_end <- ema |> \n",
    "  group_by(subid) |> \n",
    "  arrange(desc(start_date)) |> \n",
    "  slice(1) |> \n",
    "  ungroup() |> \n",
    "  mutate(study_end = as_date(start_date)) |> \n",
    "  select(subid, study_end)\n",
    "\n",
    "dates <- study_start |> \n",
    "  full_join(study_end, by = \"subid\") |> \n",
    "  mutate(study_days = study_end - study_start)"
   ],
   "id": "7a411228-2bfb-4c29-a458-78d05889af03"
  },
  {
   "cell_type": "markdown",
   "metadata": {},
   "source": [
    "Days on study\n",
    "\n",
    "336 participants started study/provided at least one month of EMA."
   ],
   "id": "d965be51-83ac-4a62-bc45-81960c2b735f"
  },
  {
   "cell_type": "code",
   "execution_count": null,
   "metadata": {},
   "outputs": [
    {
     "output_type": "display_data",
     "metadata": {},
     "data": {
      "text/markdown": [
       "  --------------------------------------------------------------------------------\n",
       "  skim_variable     n_missing   complete_rate min     max      median     n_unique\n",
       "  --------------- ----------- --------------- ------- -------- -------- ----------\n",
       "  study_days                0               1 31 days 416 days 353 days        157\n",
       "\n",
       "  --------------------------------------------------------------------------------\n"
      ]
     }
    }
   ],
   "source": [
    "dates |> \n",
    "  skim(study_days) |> \n",
    "  yank(\"difftime\")"
   ],
   "id": "85dce94a-c63c-4874-95ef-338c3b3a9df1"
  },
  {
   "cell_type": "markdown",
   "metadata": {},
   "source": [
    "For participants who completed burden study:  \n",
    "Min days on study = 122 days (all participants provided data for at least 4 months)"
   ],
   "id": "c597c75d-a8cc-4a76-8dd0-d1f6e9ec49a0"
  },
  {
   "cell_type": "code",
   "execution_count": null,
   "metadata": {},
   "outputs": [
    {
     "output_type": "display_data",
     "metadata": {},
     "data": {
      "text/markdown": [
       "  ---------------------------------------------------------------------------------\n",
       "  skim_variable     n_missing   complete_rate min      max      median     n_unique\n",
       "  --------------- ----------- --------------- -------- -------- -------- ----------\n",
       "  study_days                0               1 122 days 416 days 358 days        103\n",
       "\n",
       "  ---------------------------------------------------------------------------------\n"
      ]
     }
    }
   ],
   "source": [
    "dates |> \n",
    "  filter(subid %in% burden_subids) |>\n",
    "  skim(study_days) |> \n",
    "  yank(\"difftime\")"
   ],
   "id": "de79a06b-17a8-4efe-b9d4-50b246abef93"
  },
  {
   "cell_type": "markdown",
   "metadata": {},
   "source": [
    "Disposition of participants by month"
   ],
   "id": "19fb22a1-c58f-4ee1-a99e-8b689e8e33ea"
  },
  {
   "cell_type": "code",
   "execution_count": null,
   "metadata": {},
   "outputs": [],
   "source": [
    "#| code-fold: true\n",
    "#|\n",
    "month_1 <- dates |> \n",
    "  filter(study_days >= 30) |> \n",
    "  nrow()\n",
    "\n",
    "month_2 <- dates |> \n",
    "  filter(study_days >= 60)  |> \n",
    "  nrow()\n",
    "\n",
    "month_3 <- dates |> \n",
    "  filter(study_days >= 90)  |> \n",
    "  nrow()\n",
    "\n",
    "month_4 <- dates |> \n",
    "  filter(study_days >= 120)  |> \n",
    "  nrow()\n",
    "\n",
    "month_4_burden <- dates |>\n",
    "  filter(study_days >= 120)  |> \n",
    "  filter(subid %in% burden_subids)  |> \n",
    "  nrow()\n",
    "\n",
    "month_5 <- dates |> \n",
    "  filter(study_days >= 150)  |> \n",
    "  nrow()\n",
    "\n",
    "month_6 <- dates |>\n",
    "  filter(study_days >= 180)  |> \n",
    "  nrow()\n",
    "\n",
    "month_7 <- dates |>\n",
    "  filter(study_days >= 210)  |> \n",
    "  nrow()\n",
    "\n",
    "month_8 <- dates |>\n",
    "  filter(study_days >= 240)  |> \n",
    "  nrow()\n",
    "\n",
    "month_9 <- dates |>\n",
    "  filter(study_days >= 270)  |> \n",
    "  nrow()\n",
    "\n",
    "month_10 <- dates |>\n",
    "  filter(study_days >= 300)  |> \n",
    "  nrow()\n",
    "\n",
    "month_11 <- dates |>\n",
    "  filter(study_days >= 330) |> \n",
    "  nrow()\n",
    "\n",
    "month_12 <- dates |>\n",
    "  filter(study_days >= 360) |> \n",
    "  nrow()"
   ],
   "id": "d54ab844-08fa-42f0-a309-151c16d33162"
  },
  {
   "cell_type": "markdown",
   "metadata": {},
   "source": [
    "**Some participants on study past 4 months but have no burden data**"
   ],
   "id": "d6ae8de7-4a25-451a-8c0d-4f7760815421"
  },
  {
   "cell_type": "code",
   "execution_count": null,
   "metadata": {},
   "outputs": [
    {
     "output_type": "display_data",
     "metadata": {},
     "data": {
      "text/html": [
       "<div id=\"htmlwidget-1fdedab56b1596936b7a\" style=\"width:672px;height:1000px;\" class=\"grViz html-widget\"></div>\n",
       "<script type=\"application/json\" data-for=\"htmlwidget-1fdedab56b1596936b7a\">{\"x\":{\"diagram\":\"\\n  digraph {\\n  \\n  node [fontname = \\\"Arial\\\", shape = rectangle, fixedsize = true, width = 1.7, height = .6]\\n  a [label = \\\"Month 1\\n N =  336\\\"]\\n  b [label = \\\"Month 2\\nN = 319\\\"]\\n  c [label = \\\"Month 3\\nN = 306\\\"]\\n  d1 [label = \\\"Month 4\\nN = 290\\\"]\\n  d2 [label = \\\"Month 4 + Survey\\nN = 247\\\", color = crimson]\\n  e1 [label = \\\"Month 5\\nN = 275\\\"]\\n  f1 [label = \\\"Month 6\\nN = 267\\\"]\\n  g1 [label = \\\"Month 7\\nN = 260\\\"]\\n  h1 [label = \\\"Month 8\\nN = 248\\\"]\\n  i1 [label = \\\"Month 9\\nN = 236\\\"]\\n  j1 [label = \\\"Month 10\\nN = 220\\\"]\\n  k1 [label = \\\"Month 11\\nN = 203\\\"]\\n  l1 [label = \\\"Month 12\\nN = 117\\\"]\\n  \\n  \\n  {rank = same; d1; d2}\\n  a -> b\\n  b -> c\\n  c -> d1 -> d2\\n  d1 -> e1 -> f1 -> g1 -> h1 -> i1 -> j1 -> k1 -> l1\\n  }\",\"config\":{\"engine\":\"dot\",\"options\":null}},\"evals\":[],\"jsHooks\":[]}</script>"
      ]
     }
    }
   ],
   "source": [
    "#| code-fold: true\n",
    "\n",
    "DiagrammeR::grViz(\"\n",
    "  digraph {\n",
    "  \n",
    "  node [fontname = 'Arial', shape = rectangle, fixedsize = true, width = 1.7, height = .6]\n",
    "  a [label = '@@1']\n",
    "  b [label = '@@2']\n",
    "  c [label = '@@3']\n",
    "  d1 [label = '@@4']\n",
    "  d2 [label = '@@5', color = crimson]\n",
    "  e1 [label = '@@6']\n",
    "  f1 [label = '@@7']\n",
    "  g1 [label = '@@8']\n",
    "  h1 [label = '@@9']\n",
    "  i1 [label = '@@10']\n",
    "  j1 [label = '@@11']\n",
    "  k1 [label = '@@12']\n",
    "  l1 [label = '@@13']\n",
    "  \n",
    "  \n",
    "  {rank = same; d1; d2}\n",
    "  a -> b\n",
    "  b -> c\n",
    "  c -> d1 -> d2\n",
    "  d1 -> e1 -> f1 -> g1 -> h1 -> i1 -> j1 -> k1 -> l1\n",
    "  }\n",
    "  \n",
    "  [1]: paste('Month 1\\\\n', 'N = ', month_1)\n",
    "  [2]: str_c('Month 2\\\\n', 'N = ', month_2) \n",
    "  [3]: str_c('Month 3\\\\n', 'N = ', month_3)\n",
    "  [4]: str_c('Month 4\\\\n', 'N = ', month_4)\n",
    "  [5]: str_c('Month 4 + Survey\\\\n', 'N = ', month_4_burden)\n",
    "  [6]: str_c('Month 5\\\\n', 'N = ', month_5)\n",
    "  [7]: str_c('Month 6\\\\n', 'N = ', month_6)\n",
    "  [8]: str_c('Month 7\\\\n', 'N = ', month_7)\n",
    "  [9]: str_c('Month 8\\\\n', 'N = ', month_8)\n",
    "  [10]: str_c('Month 9\\\\n', 'N = ', month_9)\n",
    "  [11]: str_c('Month 10\\\\n', 'N = ', month_10)\n",
    "  [12]: str_c('Month 11\\\\n', 'N = ', month_11)\n",
    "  [13]: str_c('Month 12\\\\n', 'N = ', month_12)\n",
    "  \", height = \"1000px\") "
   ],
   "id": "9ab2d5f1-b686-455d-8666-11954175db84"
  },
  {
   "cell_type": "markdown",
   "metadata": {},
   "source": [
    "### Daily Survey Overall Adherence\n",
    "\n",
    "Get all study days for each subid"
   ],
   "id": "dd45a473-05b5-4577-b379-3cb49063c061"
  },
  {
   "cell_type": "code",
   "execution_count": null,
   "metadata": {},
   "outputs": [],
   "source": [
    "# function to map over\n",
    "get_study_days <- function(the_subid, dates) {\n",
    "  study_start <- dates |>  filter(subid == the_subid) |>  pull(study_start)\n",
    "  study_end <- dates |>  filter(subid == the_subid) |> pull(study_end)\n",
    "  study_days <- tibble(subid = the_subid, study_day = seq(study_start, study_end - days(1), by = \"day\")) \n",
    "  return(study_days)\n",
    "}\n",
    "\n",
    "study_dates <- dates$subid |> \n",
    "  map_dfr(~get_study_days(.x, dates))"
   ],
   "id": "217856e4-25ac-4e24-b7dc-540c530252b2"
  },
  {
   "cell_type": "markdown",
   "metadata": {},
   "source": [
    "Count surveys per study day (day starts at 6 am)"
   ],
   "id": "c147b732-9c14-436a-a44a-66b651f969dc"
  },
  {
   "cell_type": "code",
   "execution_count": null,
   "metadata": {},
   "outputs": [],
   "source": [
    "ema_count <- ema |>\n",
    "  mutate(study_day = if_else(hour(start_date) >= 6, \n",
    "                        as_date(start_date),\n",
    "                        as_date(start_date) - days(1))) |> \n",
    "  count(subid, study_day) \n",
    "\n",
    "\n",
    "ema_count <- ema_count |> \n",
    "  mutate(n = if_else(n > 1, 1, n))"
   ],
   "id": "571d234a-30a6-4189-9e9c-334a32b829f7"
  },
  {
   "cell_type": "markdown",
   "metadata": {},
   "source": [
    "Add counts to study dates"
   ],
   "id": "9c90a394-9a3b-46fc-9361-f4857ee9b8d1"
  },
  {
   "cell_type": "code",
   "execution_count": null,
   "metadata": {},
   "outputs": [],
   "source": [
    "count_study_dates <- study_dates |> \n",
    "  left_join(ema_count, by = c(\"subid\", \"study_day\")) |> \n",
    "  mutate(n = if_else(is.na(n), 0, n)) |> \n",
    "  mutate(n_prompts = 1) "
   ],
   "id": "d93252c5-9a53-4432-aa48-d439e0c24e80"
  },
  {
   "cell_type": "markdown",
   "metadata": {},
   "source": [
    "calculate mean adherence"
   ],
   "id": "402956ef-29a1-4c82-b4d4-755d6e451606"
  },
  {
   "cell_type": "code",
   "execution_count": null,
   "metadata": {},
   "outputs": [],
   "source": [
    "mean_ema <- count_study_dates |> \n",
    "  group_by(subid) |> \n",
    "  summarize(n_total = sum(n), prompt_total = sum(n_prompts)) |> \n",
    "  mutate(mean = n_total/prompt_total) |> \n",
    "  ungroup() |> \n",
    "  summarize(mean = mean(mean))"
   ],
   "id": "39e2bba0-afa2-4a24-bb81-ffc48d0c21c2"
  },
  {
   "cell_type": "markdown",
   "metadata": {},
   "source": [
    "**On average participants (N = 336) completed 0.72 daily surveys each day they were on study. That is their overall adherence for a once daily EMA was 72%.**\n",
    "\n",
    "Hist of overall adherence by subid"
   ],
   "id": "175e5e75-d066-4b4f-94de-413a5dc10dde"
  },
  {
   "cell_type": "code",
   "execution_count": null,
   "metadata": {},
   "outputs": [
    {
     "output_type": "display_data",
     "metadata": {},
     "data": {
      "image/png": "[encoded data removed]"
     }
    }
   ],
   "source": [
    "#| code-fold: true\n",
    "\n",
    "count_study_dates |> \n",
    "  group_by(subid) |> \n",
    "  summarise(n_total = sum(n),\n",
    "            n_prompts = sum(n_prompts)) |> \n",
    "  mutate(adherence = n_total/n_prompts) |> \n",
    "  ggplot(aes(x = adherence)) +\n",
    "  geom_histogram(color = \"black\", fill = \"light grey\", binwidth = .1, center = .55) +\n",
    "  scale_x_continuous(breaks = c(0, 0.10, 0.20, 0.30, 0.40, 0.50, 0.60, 0.70, 0.80, 0.90, 1.0)) +\n",
    "  labs(y = \"Frequency\", x = \"Proportion of daily survey's completed\",\n",
    "       subtitle = \"Daily Survey Adherence (N = 336)\") +\n",
    "  geom_vline(aes(xintercept = mean_ema$mean), linewidth = .3) +\n",
    "  theme_classic()"
   ],
   "id": "29ae3292-0452-44c9-8409-90a3a5f88885"
  },
  {
   "cell_type": "markdown",
   "metadata": {},
   "source": [
    "### Daily Survey Adherence over time\n",
    "\n",
    "Quite a few people have over 365 days of EMA. *Lose these in adherence over 12 month plot*."
   ],
   "id": "f0f10d62-54af-4f39-9f00-009d15d1235b"
  },
  {
   "cell_type": "code",
   "execution_count": null,
   "metadata": {},
   "outputs": [
    {
     "output_type": "stream",
     "name": "stdout",
     "text": [
      "# A tibble: 70 × 5\n",
      "   subid study_start study_end  study_days n       \n",
      "   <dbl> <date>      <date>     <drtn>     <drtn>  \n",
      " 1  1152 2022-09-06  2023-10-27 416 days   416 days\n",
      " 2  1200 2022-11-01  2023-12-22 416 days   416 days\n",
      " 3  1146 2022-08-16  2023-10-03 413 days   413 days\n",
      " 4  1286 2023-03-01  2024-04-12 408 days   408 days\n",
      " 5  1211 2022-11-18  2023-12-28 405 days   405 days\n",
      " 6  1080 2022-05-10  2023-06-18 404 days   404 days\n",
      " 7  1197 2022-10-31  2023-12-08 403 days   403 days\n",
      " 8  1269 2023-02-06  2024-03-07 395 days   395 days\n",
      " 9  1168 2022-10-03  2023-10-31 393 days   393 days\n",
      "10  1352 2023-06-07  2024-07-02 391 days   391 days\n",
      "11  1035 2022-03-07  2023-04-01 390 days   390 days\n",
      "12  1070 2022-04-28  2023-05-22 389 days   389 days\n",
      "13  1071 2022-04-29  2023-05-23 389 days   389 days\n",
      "14  1036 2022-03-11  2023-04-03 388 days   388 days\n",
      "15  1044 2022-03-25  2023-04-17 388 days   388 days\n",
      "16  1302 2023-03-16  2024-04-07 388 days   388 days\n",
      "17  1029 2022-02-21  2023-03-15 387 days   387 days\n",
      "18  1030 2022-02-23  2023-03-16 386 days   386 days\n",
      "19  1046 2022-03-28  2023-04-18 386 days   386 days\n",
      "20  1122 2022-07-11  2023-08-01 386 days   386 days\n",
      "21  1249 2023-01-10  2024-01-31 386 days   386 days\n",
      "22  1371 2023-07-11  2024-07-31 386 days   386 days\n",
      "23  1380 2023-07-26  2024-08-15 386 days   386 days\n",
      "24  1384 2023-07-27  2024-08-16 386 days   386 days\n",
      "25  1012 2021-09-15  2022-10-05 385 days   385 days\n",
      "26  1112 2022-06-27  2023-07-17 385 days   385 days\n",
      "27  1148 2022-08-19  2023-09-08 385 days   385 days\n",
      "28  1033 2022-03-03  2023-03-22 384 days   384 days\n",
      "29  1048 2022-03-29  2023-04-17 384 days   384 days\n",
      "30  1038 2022-03-14  2023-03-31 382 days   382 days\n",
      "31  1051 2022-03-31  2023-04-17 382 days   382 days\n",
      "32  1099 2022-06-13  2023-06-30 382 days   382 days\n",
      "33  1219 2022-12-02  2023-12-19 382 days   382 days\n",
      "34  1222 2022-12-02  2023-12-19 382 days   382 days\n",
      "35  1113 2022-06-27  2023-07-13 381 days   381 days\n",
      "36  1039 2022-03-14  2023-03-29 380 days   380 days\n",
      "37  1198 2022-10-31  2023-11-15 380 days   380 days\n",
      "38  1356 2023-06-14  2024-06-28 380 days   380 days\n",
      "39  1066 2022-04-27  2023-05-11 379 days   379 days\n",
      "40  1201 2022-11-01  2023-11-15 379 days   379 days\n",
      "41  1216 2022-12-01  2023-12-15 379 days   379 days\n",
      "42  1218 2022-12-01  2023-12-15 379 days   379 days\n",
      "43  1220 2022-12-01  2023-12-15 379 days   379 days\n",
      "44  1306 2023-03-21  2024-04-03 379 days   379 days\n",
      "45  1050 2022-03-31  2023-04-13 378 days   378 days\n",
      "46  1278 2023-02-16  2024-02-29 378 days   378 days\n",
      "47  1061 2022-04-22  2023-05-02 375 days   375 days\n",
      "48  1395 2023-08-10  2024-08-19 375 days   375 days\n",
      "49  1041 2022-03-17  2023-03-25 373 days   373 days\n",
      "50  1411 2023-09-19  2024-09-25 372 days   372 days\n",
      "51  1037 2022-03-14  2023-03-20 371 days   371 days\n",
      "52  1297 2023-03-09  2024-03-14 371 days   371 days\n",
      "53  1399 2023-08-22  2024-08-27 371 days   371 days\n",
      "54  1009 2021-05-04  2022-05-09 370 days   370 days\n",
      "55  1006 2021-04-22  2022-04-25 368 days   368 days\n",
      "56  1023 2022-02-09  2023-02-12 368 days   368 days\n",
      "57  1079 2022-05-09  2023-05-12 368 days   368 days\n",
      "58  1153 2022-09-06  2023-09-09 368 days   368 days\n",
      "59  1182 2022-10-20  2023-10-23 368 days   368 days\n",
      "60  1188 2022-10-23  2023-10-26 368 days   368 days\n",
      "61  1312 2023-03-27  2024-03-29 368 days   368 days\n",
      "62  1388 2023-08-03  2024-08-05 368 days   368 days\n",
      "63  1401 2023-08-24  2024-08-26 368 days   368 days\n",
      "64  1031 2022-02-28  2023-03-02 367 days   367 days\n",
      "65  1081 2022-05-10  2023-05-12 367 days   367 days\n",
      "66  1367 2023-07-05  2024-07-06 367 days   367 days\n",
      "67  1068 2022-04-27  2023-04-28 366 days   366 days\n",
      "68  1160 2022-09-16  2023-09-17 366 days   366 days\n",
      "69  1324 2023-04-18  2024-04-18 366 days   366 days\n",
      "70  1337 2023-06-01  2024-06-01 366 days   366 days"
     ]
    }
   ],
   "source": [
    "dates |> \n",
    "  mutate(n = study_end - study_start) |> \n",
    "  arrange(desc(n)) |> \n",
    "  filter(n > 365) |> \n",
    "  print(n = Inf)"
   ],
   "id": "2a676063-e691-4700-a227-7998c5d34789"
  },
  {
   "cell_type": "markdown",
   "metadata": {},
   "source": [
    "Slice into 30 day bins"
   ],
   "id": "be6f744e-5f08-4910-bea9-a2d5dd47fd85"
  },
  {
   "cell_type": "code",
   "execution_count": null,
   "metadata": {},
   "outputs": [],
   "source": [
    "#| code-fold: true\n",
    "\n",
    "study_months <- count_study_dates |> \n",
    "  group_by(subid) |> \n",
    "  slice(1:30) |> \n",
    "  mutate(month = 1) |> \n",
    "  bind_rows(count_study_dates |> \n",
    "    group_by(subid) |> \n",
    "    slice(31:60) |> \n",
    "    mutate(month = 2)) |> \n",
    "  bind_rows(count_study_dates |> \n",
    "    group_by(subid) |> \n",
    "    slice(61:90) |> \n",
    "    mutate(month = 3)) |> \n",
    "  bind_rows(count_study_dates |> \n",
    "    group_by(subid) |> \n",
    "    slice(91:120) |> \n",
    "    mutate(month = 4)) |> \n",
    "  bind_rows(count_study_dates |> \n",
    "    group_by(subid) |> \n",
    "    slice(121:150) |> \n",
    "    mutate(month = 5)) |> \n",
    "  bind_rows(count_study_dates |> \n",
    "    group_by(subid) |> \n",
    "    slice(151:180) |> \n",
    "    mutate(month = 6)) |> \n",
    "  bind_rows(count_study_dates |> \n",
    "    group_by(subid) |> \n",
    "    slice(181:210) |> \n",
    "    mutate(month = 7)) |> \n",
    "  bind_rows(count_study_dates |> \n",
    "    group_by(subid) |> \n",
    "    slice(211:240) |> \n",
    "    mutate(month = 8)) |> \n",
    "  bind_rows(count_study_dates |> \n",
    "    group_by(subid) |> \n",
    "    slice(241:270) |> \n",
    "    mutate(month = 9)) |> \n",
    "  bind_rows(count_study_dates |> \n",
    "    group_by(subid) |> \n",
    "    slice(271:300) |> \n",
    "    mutate(month = 10)) |> \n",
    "  bind_rows(count_study_dates |> \n",
    "    group_by(subid) |> \n",
    "    slice(301:330) |> \n",
    "    mutate(month = 11)) |> \n",
    "  bind_rows(count_study_dates |> \n",
    "    group_by(subid) |> \n",
    "    slice(331:360) |> \n",
    "    mutate(month = 12)) |> \n",
    "  ungroup()"
   ],
   "id": "0c77260b-ba26-4caf-87d3-9ce609e8f2c8"
  },
  {
   "cell_type": "markdown",
   "metadata": {},
   "source": [
    "Get individual adherence scores"
   ],
   "id": "2dd16d4a-b6e8-4ce0-8951-9c2c6d3822fa"
  },
  {
   "cell_type": "code",
   "execution_count": null,
   "metadata": {},
   "outputs": [],
   "source": [
    "ema_month_adherence <- study_months |> \n",
    "  group_by(subid, month) |> \n",
    "  summarize(sum_n = sum(n), sum_prompts = sum(n_prompts), .groups = \"rowwise\") |> \n",
    "  mutate(adherence = sum_n/sum_prompts) |> \n",
    "  ungroup()"
   ],
   "id": "1992bc6b-1009-4cb3-9469-8df0c17a8ae4"
  },
  {
   "cell_type": "markdown",
   "metadata": {},
   "source": [
    "Summarize total adherence"
   ],
   "id": "6d870163-2888-449f-9ffe-505a613d27ac"
  },
  {
   "cell_type": "code",
   "execution_count": null,
   "metadata": {},
   "outputs": [
    {
     "output_type": "stream",
     "name": "stdout",
     "text": [
      "# A tibble: 12 × 2\n",
      "   month mean_adherence\n",
      "   <dbl>          <dbl>\n",
      " 1     1          0.824\n",
      " 2     2          0.789\n",
      " 3     3          0.756\n",
      " 4     4          0.718\n",
      " 5     5          0.716\n",
      " 6     6          0.724\n",
      " 7     7          0.723\n",
      " 8     8          0.709\n",
      " 9     9          0.708\n",
      "10    10          0.707\n",
      "11    11          0.687\n",
      "12    12          0.696"
     ]
    }
   ],
   "source": [
    "ema_month_adherence |> \n",
    "  group_by(month) |> \n",
    "  summarize(mean_adherence = mean(adherence)) "
   ],
   "id": "9e722af6-9484-44c1-8ce0-7bde6dd56247"
  },
  {
   "cell_type": "markdown",
   "metadata": {},
   "source": [
    "Plot adherence by month"
   ],
   "id": "aa2dbc69-8240-4832-a125-b29e3c0e9d5d"
  },
  {
   "cell_type": "code",
   "execution_count": null,
   "metadata": {},
   "outputs": [
    {
     "output_type": "display_data",
     "metadata": {},
     "data": {
      "image/png": "[encoded data removed]"
     }
    }
   ],
   "source": [
    "#| code-fold: true\n",
    "\n",
    "ema_month_adherence |> \n",
    "  group_by(month) |> \n",
    "  summarize(mean_adherence = mean(adherence)) |> \n",
    "  ggplot(aes(x = month, y = mean_adherence)) +\n",
    "  geom_point() +\n",
    "  geom_line() +\n",
    "  theme_classic() +\n",
    "  scale_x_continuous(name = \"month\", \n",
    "                     breaks = seq(1, 12, 1)) +\n",
    "  scale_y_continuous(name = \"adherence\", \n",
    "                     breaks = seq(0, 1, .1), \n",
    "                     limits = c(0, 1)) +\n",
    "  labs(title = \"Daily survey adherence over time (N = 336) \") +\n",
    "  theme(legend.title = element_blank()) +\n",
    "  geom_hline(aes(yintercept = mean(mean_adherence)), linetype = \"dashed\", linewidth = .3)"
   ],
   "id": "e70af525-4fde-49b9-88bc-e445bebb1241"
  },
  {
   "cell_type": "markdown",
   "metadata": {},
   "source": [
    "### Monthly Survey Overall Adherence\n",
    "\n",
    "Count how many months on study"
   ],
   "id": "d60fdc90-475d-48df-b0e0-d50fd142c3fa"
  },
  {
   "cell_type": "code",
   "execution_count": null,
   "metadata": {},
   "outputs": [],
   "source": [
    "dates <- dates |> \n",
    "  mutate(study_months = floor(interval(study_start, study_end) / months(1)))"
   ],
   "id": "ee0b8085-6934-46f2-992b-b15c3b837e2d"
  },
  {
   "cell_type": "markdown",
   "metadata": {},
   "source": [
    "Count how many completed monthly surveys"
   ],
   "id": "6a3cc5b9-0ec6-4352-a7df-7c1bad812545"
  },
  {
   "cell_type": "code",
   "execution_count": null,
   "metadata": {},
   "outputs": [],
   "source": [
    "monthly_count <-  dates |> \n",
    "  left_join(monthly |> \n",
    "  group_by(subid) |> \n",
    "  summarize(n = n()), by = \"subid\") |> \n",
    "  mutate(n_prompts = study_months,\n",
    "         n = if_else(n > n_prompts, n_prompts, n))"
   ],
   "id": "7c5d5a2a-43c1-41d0-8079-6c90ed879286"
  },
  {
   "cell_type": "markdown",
   "metadata": {},
   "source": [
    "calculate mean adherence"
   ],
   "id": "7abd6081-3633-4154-893d-456ebd3a654d"
  },
  {
   "cell_type": "code",
   "execution_count": null,
   "metadata": {},
   "outputs": [],
   "source": [
    "mean_monthly <- monthly_count |> \n",
    "  group_by(subid) |> \n",
    "  mutate(mean = n/n_prompts) |> \n",
    "  ungroup() |> \n",
    "  summarize(mean = mean(mean))"
   ],
   "id": "f76605d6-9646-4314-ba10-d37e3bc483dd"
  },
  {
   "cell_type": "markdown",
   "metadata": {},
   "source": [
    "**On average participants’ (N = 336) overall adherence for the monthly survey was 96%.**"
   ],
   "id": "d771c02b-1acc-4d11-a360-ccb34973e2ab"
  },
  {
   "cell_type": "code",
   "execution_count": null,
   "metadata": {},
   "outputs": [
    {
     "output_type": "stream",
     "name": "stdout",
     "text": [
      "# A tibble: 2 × 2\n",
      "  adher_90     n\n",
      "     <dbl> <int>\n",
      "1        0    43\n",
      "2        1   293"
     ]
    }
   ],
   "source": [
    "monthly_count |> \n",
    "  group_by(subid) |> \n",
    "  mutate(mean = n/n_prompts,\n",
    "         adher_90 = if_else(mean >= .9, 1, 0)) |> \n",
    "  ungroup() |> \n",
    "  count(adher_90)"
   ],
   "id": "4dd5ebff-2762-4d6d-bf25-0378f4d0f2d8"
  },
  {
   "cell_type": "markdown",
   "metadata": {},
   "source": [
    "**88% of participants completed at least 90% of their monthly surveys.**"
   ],
   "id": "6e52471d-1dc3-4010-9c6e-3a30de84e687"
  },
  {
   "cell_type": "code",
   "execution_count": null,
   "metadata": {},
   "outputs": [
    {
     "output_type": "stream",
     "name": "stdout",
     "text": [
      "# A tibble: 2 × 2\n",
      "  adher_80     n\n",
      "     <dbl> <int>\n",
      "1        0    21\n",
      "2        1   315"
     ]
    },
    {
     "output_type": "stream",
     "name": "stdout",
     "text": [
      "[1] 0.9404762"
     ]
    }
   ],
   "source": [
    "monthly_count |> \n",
    "  group_by(subid) |> \n",
    "  mutate(mean = n/n_prompts,\n",
    "         adher_80 = if_else(mean >= .8, 1, 0)) |> \n",
    "  ungroup() |> \n",
    "  count(adher_80)"
   ],
   "id": "ecbd4f4e-a1ea-458f-9eb2-38f354858e8f"
  },
  {
   "cell_type": "markdown",
   "metadata": {},
   "source": [
    "Hist of overall adherence by subid"
   ],
   "id": "5155591d-84c9-40bd-afab-ab9a3319baf4"
  },
  {
   "cell_type": "code",
   "execution_count": null,
   "metadata": {},
   "outputs": [
    {
     "output_type": "display_data",
     "metadata": {},
     "data": {
      "image/png": "[encoded data removed]"
     }
    }
   ],
   "source": [
    "#| code-fold: true\n",
    "\n",
    "monthly_count |> \n",
    "  group_by(subid) |> \n",
    "  mutate(adherence = n/n_prompts) |> \n",
    "  ggplot(aes(x = adherence)) +\n",
    "  geom_histogram(color = \"black\", fill = \"light grey\", binwidth = .1, center = .55) +\n",
    "  scale_x_continuous(breaks = c(0, 0.10, 0.20, 0.30, 0.40, 0.50, 0.60, 0.70, 0.80, 0.90, 1.0)) +\n",
    "  labs(y = \"Frequency\", x = \"Proportion of monthly survey's completed\",\n",
    "       subtitle = \"Monthly Survey Adherence (N = 336)\") +\n",
    "  geom_vline(aes(xintercept = mean_monthly$mean), linewidth = .3) +\n",
    "  theme_classic()"
   ],
   "id": "5fc78df1-e20d-4c1a-ab03-735da282e2fb"
  }
 ],
 "nbformat": 4,
 "nbformat_minor": 5,
 "metadata": {}
}
