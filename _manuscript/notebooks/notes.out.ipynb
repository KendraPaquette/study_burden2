{
 "cells": [
  {
   "cell_type": "markdown",
   "metadata": {},
   "source": [
    "# Notes\n",
    "\n",
    "-   Burden data from 247 participants.\n",
    "-   All participants provided quant data\n",
    "-   222 provided qual data (205 provided comments that were coded)\n",
    "-   We coded a total of 713 comments from 205 participants. We filtered out comments that equate to NA (e.g., None, No, Na, No comment).\n",
    "-   participants completed survey on average after being on study for 4 months (range = 62-142 days)"
   ],
   "id": "190ad083-1f09-4aed-a4f5-a8a457a4e0ba"
  }
 ],
 "nbformat": 4,
 "nbformat_minor": 5,
 "metadata": {}
}
