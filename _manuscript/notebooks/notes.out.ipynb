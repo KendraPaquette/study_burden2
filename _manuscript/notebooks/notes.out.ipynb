{
 "cells": [
  {
   "cell_type": "markdown",
   "metadata": {},
   "source": [
    "# Notes\n",
    "\n",
    "-   Burden data from 247 participants.\n",
    "-   All participants provided quant data\n",
    "-   222 provided qual data (205 provided comments that were coded)\n",
    "-   We coded a total of 713 comments from 205 participants. We filtered out comments that equate to NA (e.g., None, No, Na, No comment).\n",
    "-   participants completed survey on average after being on study for 4 months (range = 62-142 days)"
   ],
   "id": "2a6a388b-ac4f-432f-8cd2-5d83bd7bf457"
  }
 ],
 "nbformat": 4,
 "nbformat_minor": 5,
 "metadata": {}
}
